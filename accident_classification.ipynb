{
  "nbformat": 4,
  "nbformat_minor": 0,
  "metadata": {
    "colab": {
      "name": "accident_classification.ipynb",
      "provenance": [],
      "collapsed_sections": []
    },
    "kernelspec": {
      "name": "python3",
      "display_name": "Python 3"
    },
    "language_info": {
      "name": "python"
    }
  },
  "cells": [
    {
      "cell_type": "code",
      "metadata": {
        "id": "K1FxR1XWRO5_"
      },
      "source": [
        "import pandas as pd\n",
        "import numpy as np\n",
        "import matplotlib.pyplot as plt\n",
        "# Import KNeighborsClassifier from sklearn.neighbors\n",
        "from sklearn.neighbors import KNeighborsClassifier\n",
        "\n",
        "# Import DecisionTreeClassifier from sklearn.tree\n",
        "from sklearn.tree import DecisionTreeClassifier\n",
        "\n",
        "# Import RandomForestClassifier\n",
        "from sklearn.ensemble import RandomForestClassifier\n",
        "\n",
        "# Import LogisticRegression\n",
        "from sklearn.linear_model import LogisticRegression\n",
        "from sklearn.model_selection import train_test_split\n",
        "from sklearn.model_selection import GridSearchCV\n",
        "from sklearn.feature_selection import SelectFromModel\n",
        "from sklearn.metrics import classification_report\n",
        "from sklearn.metrics import confusion_matrix\n",
        "from sklearn.metrics import accuracy_score\n",
        "from sklearn.metrics import roc_curve, auc\n",
        "\n",
        "df = pd.read_csv(\"/content/drive/My Drive/data_clean.csv\")\n",
        "\n"
      ],
      "execution_count": 28,
      "outputs": []
    },
    {
      "cell_type": "code",
      "metadata": {
        "colab": {
          "base_uri": "https://localhost:8080/"
        },
        "id": "fFk_UC-swyZn",
        "outputId": "2266c644-330c-424b-b444-9e80929acfd4"
      },
      "source": [
        "df1 = df[df[\"Severity\"]==1]\n",
        "df2 = df[df[\"Severity\"]==2]\n",
        "df3 = df[df[\"Severity\"]==3]\n",
        "df4 = df[df[\"Severity\"]==4]\n",
        "df1.info()\n",
        "df2.info()\n",
        "df3.info()\n",
        "df4.info()"
      ],
      "execution_count": 30,
      "outputs": [
        {
          "output_type": "stream",
          "name": "stdout",
          "text": [
            "<class 'pandas.core.frame.DataFrame'>\n",
            "Int64Index: 28178 entries, 237384 to 1018322\n",
            "Columns: 140 entries, Unnamed: 0 to Wintry Mix / Windy\n",
            "dtypes: float64(7), int64(131), object(2)\n",
            "memory usage: 30.3+ MB\n",
            "<class 'pandas.core.frame.DataFrame'>\n",
            "Int64Index: 1212382 entries, 1 to 1516063\n",
            "Columns: 140 entries, Unnamed: 0 to Wintry Mix / Windy\n",
            "dtypes: float64(7), int64(131), object(2)\n",
            "memory usage: 1.3+ GB\n",
            "<class 'pandas.core.frame.DataFrame'>\n",
            "Int64Index: 161052 entries, 0 to 1516029\n",
            "Columns: 140 entries, Unnamed: 0 to Wintry Mix / Windy\n",
            "dtypes: float64(7), int64(131), object(2)\n",
            "memory usage: 173.3+ MB\n",
            "<class 'pandas.core.frame.DataFrame'>\n",
            "Int64Index: 114452 entries, 21 to 1516050\n",
            "Columns: 140 entries, Unnamed: 0 to Wintry Mix / Windy\n",
            "dtypes: float64(7), int64(131), object(2)\n",
            "memory usage: 123.1+ MB\n"
          ]
        }
      ]
    },
    {
      "cell_type": "code",
      "metadata": {
        "id": "_8BYxi4Cx26R"
      },
      "source": [
        "# df.head()\n",
        "# df_sev_2 = df[df[\"Severity\"]==2].sample(12000)\n",
        "df = df.drop(df[df[\"Severity\"]==2].index)\n",
        "df = df.drop(df[df[\"Severity\"]==1].index)\n",
        "\n",
        "from sklearn.utils import resample\n",
        "# downsampling severity = 2\n",
        "df2 = resample(df2, \n",
        "        replace=False,    # sample without replacement\n",
        "        n_samples=130000,     # to match minority class\n",
        "        random_state=123) # reproducible results\n",
        "# upsampling severity = 1\n",
        "df1 = resample(df1, \n",
        "        replace=True,     # sample with replacement\n",
        "        n_samples=130000,    # to match majority class\n",
        "        random_state=123) # reproducible results\n",
        "\n",
        "df = df.append(df1)\n",
        "df = df.append(df2)\n"
      ],
      "execution_count": 38,
      "outputs": []
    },
    {
      "cell_type": "code",
      "metadata": {
        "colab": {
          "base_uri": "https://localhost:8080/"
        },
        "id": "y5c1xF6Hv56A",
        "outputId": "9d2a9d87-b227-4df4-ba00-b5b6b4219b05"
      },
      "source": [
        "df.info()"
      ],
      "execution_count": 39,
      "outputs": [
        {
          "output_type": "stream",
          "name": "stdout",
          "text": [
            "<class 'pandas.core.frame.DataFrame'>\n",
            "Int64Index: 535504 entries, 0 to 752394\n",
            "Columns: 140 entries, Unnamed: 0 to Wintry Mix / Windy\n",
            "dtypes: float64(7), int64(131), object(2)\n",
            "memory usage: 576.1+ MB\n"
          ]
        }
      ]
    },
    {
      "cell_type": "code",
      "metadata": {
        "id": "LEaTvk9CGqhQ"
      },
      "source": [
        "df['Start_Time'] = pd.to_datetime(df['Start_Time'])\n",
        "df['Year'] = df['Start_Time'].dt.year\n",
        "df['Weekday']= df['Start_Time'].dt.weekday\n",
        "df ['Month'] = df['Start_Time'].dt.month\n",
        "df ['Hour'] = df['Start_Time'].dt.hour\n",
        "# df.loc[:4,['Start_Time','Year','Month', 'Weekday', 'Hour']]"
      ],
      "execution_count": 40,
      "outputs": []
    },
    {
      "cell_type": "code",
      "metadata": {
        "colab": {
          "base_uri": "https://localhost:8080/"
        },
        "id": "H_3uKNu-jID9",
        "outputId": "0ecfbffb-a844-4ea1-db81-5d5b8d8083f5"
      },
      "source": [
        "feature_lst=[ 'Severity','Start_Lat','Start_Lng','Weekday','Month','Hour', 'Zipcode', 'Temperature(F)', 'Humidity(%)','Visibility(mi)','Junction','Rain','Fog']\n",
        "\n",
        "df_sel=df[feature_lst].copy()\n",
        "df_sel.info()"
      ],
      "execution_count": 41,
      "outputs": [
        {
          "output_type": "stream",
          "name": "stdout",
          "text": [
            "<class 'pandas.core.frame.DataFrame'>\n",
            "Int64Index: 535504 entries, 0 to 752394\n",
            "Data columns (total 13 columns):\n",
            " #   Column          Non-Null Count   Dtype  \n",
            "---  ------          --------------   -----  \n",
            " 0   Severity        535504 non-null  int64  \n",
            " 1   Start_Lat       535504 non-null  float64\n",
            " 2   Start_Lng       535504 non-null  float64\n",
            " 3   Weekday         535504 non-null  int64  \n",
            " 4   Month           535504 non-null  int64  \n",
            " 5   Hour            535504 non-null  int64  \n",
            " 6   Zipcode         535209 non-null  float64\n",
            " 7   Temperature(F)  523682 non-null  float64\n",
            " 8   Humidity(%)     522972 non-null  float64\n",
            " 9   Visibility(mi)  522364 non-null  float64\n",
            " 10  Junction        535504 non-null  int64  \n",
            " 11  Rain            535504 non-null  int64  \n",
            " 12  Fog             535504 non-null  int64  \n",
            "dtypes: float64(6), int64(7)\n",
            "memory usage: 57.2 MB\n"
          ]
        }
      ]
    },
    {
      "cell_type": "code",
      "metadata": {
        "colab": {
          "base_uri": "https://localhost:8080/"
        },
        "id": "ZKi4Vlxsy3V5",
        "outputId": "296374d1-aa00-44fd-f370-eabe7c8c7610"
      },
      "source": [
        "# method 1: remove rows with null value (if want to test with null, comment this cell)\n",
        "df_sel.dropna(subset=df_sel.columns[df_sel.isnull().mean()!=0], how='any', axis=0, inplace=True)\n",
        "df_sel.shape"
      ],
      "execution_count": 42,
      "outputs": [
        {
          "output_type": "execute_result",
          "data": {
            "text/plain": [
              "(519810, 13)"
            ]
          },
          "metadata": {},
          "execution_count": 42
        }
      ]
    },
    {
      "cell_type": "code",
      "metadata": {
        "id": "khXMaER_y3RJ"
      },
      "source": [
        "# Assign the data\n",
        "df=df_sel\n",
        "\n",
        "# Set the target for the prediction\n",
        "target='Severity'\n",
        "\n",
        "\n",
        "# Create arrays for the features and the response variable\n",
        "\n",
        "# set X and y\n",
        "y = df[target]\n",
        "X = df.drop(target, axis=1)\n"
      ],
      "execution_count": 43,
      "outputs": []
    },
    {
      "cell_type": "code",
      "metadata": {
        "id": "mEd4EK1hhjlg"
      },
      "source": [
        "X_train, X_test, y_train, y_test = train_test_split(X, y, test_size=0.2, random_state=21, stratify=y)"
      ],
      "execution_count": 44,
      "outputs": []
    },
    {
      "cell_type": "code",
      "metadata": {
        "colab": {
          "base_uri": "https://localhost:8080/"
        },
        "id": "YL8hNsqxJ_2L",
        "outputId": "a6114b36-aa4d-45b6-ace7-a777cb9bf19a"
      },
      "source": [
        "\n",
        "# Random Forest algorithm\n",
        "\n",
        "#Create a RF Classifier\n",
        "clf=RandomForestClassifier(n_estimators=100)\n",
        "\n",
        "# Initialize an empty list for the accuracy for each algorithm\n",
        "accuracy_lst=[]\n",
        "\n",
        "#Train the model using the training sets y_pred=clf.predict(X_test)\n",
        "clf.fit(X_train,y_train)\n",
        "\n",
        "y_pred=clf.predict(X_test)\n",
        "\n",
        "\n",
        "# Get the accuracy score\n",
        "acc=accuracy_score(y_test, y_pred)\n",
        "\n",
        "# Append to the accuracy list\n",
        "accuracy_lst.append(acc)\n",
        "\n",
        "\n",
        "# Model Accuracy, how often is the classifier correct?\n",
        "print(\"[Randon forest algorithm] accuracy_score: {:.3f}.\".format(acc))"
      ],
      "execution_count": 45,
      "outputs": [
        {
          "output_type": "stream",
          "name": "stdout",
          "text": [
            "[Randon forest algorithm] accuracy_score: 0.784.\n"
          ]
        }
      ]
    },
    {
      "cell_type": "code",
      "metadata": {
        "id": "LXBieXPmNapw",
        "colab": {
          "base_uri": "https://localhost:8080/",
          "height": 295
        },
        "outputId": "5db28466-712e-4ace-aa3c-7688b06b75d5"
      },
      "source": [
        "import seaborn as sns\n",
        "\n",
        "#define Feature importance\n",
        "feature_imp = pd.Series(clf.feature_importances_,index=X.columns).sort_values(ascending=False)\n",
        "\n",
        "# Creating a bar plot, displaying only the top k features\n",
        "k=10\n",
        "sns.barplot(x=feature_imp[:10], y=feature_imp.index[:k])\n",
        "# Add labels to your graph\n",
        "plt.xlabel('Feature Importance Score')\n",
        "plt.ylabel('Features')\n",
        "plt.title(\"Visualizing Important Features\")\n",
        "# plt.legend()\n",
        "plt.show()"
      ],
      "execution_count": 46,
      "outputs": [
        {
          "output_type": "display_data",
          "data": {
            "image/png": "[encoded data removed]",
            "text/plain": [
              "<Figure size 432x288 with 1 Axes>"
            ]
          },
          "metadata": {
            "needs_background": "light"
          }
        }
      ]
    },
    {
      "cell_type": "code",
      "metadata": {
        "colab": {
          "base_uri": "https://localhost:8080/"
        },
        "id": "q4Yc06seVyVq",
        "outputId": "7e41adae-90b7-490d-e674-488bfbd8d6fc"
      },
      "source": [
        "k=10\n",
        "feature_imp.sort_values(ascending=False)[:k]"
      ],
      "execution_count": 47,
      "outputs": [
        {
          "output_type": "execute_result",
          "data": {
            "text/plain": [
              "Start_Lng         0.179320\n",
              "Start_Lat         0.167895\n",
              "Zipcode           0.167126\n",
              "Month             0.139083\n",
              "Temperature(F)    0.094245\n",
              "Humidity(%)       0.091074\n",
              "Hour              0.077920\n",
              "Weekday           0.048942\n",
              "Visibility(mi)    0.020937\n",
              "Junction          0.011029\n",
              "dtype: float64"
            ]
          },
          "metadata": {},
          "execution_count": 47
        }
      ]
    },
    {
      "cell_type": "code",
      "metadata": {
        "colab": {
          "base_uri": "https://localhost:8080/",
          "height": 355
        },
        "id": "WTF_MFmwV90q",
        "outputId": "0e25e075-ac68-4649-feee-fe6219e0a807"
      },
      "source": [
        "confmat = confusion_matrix(y_true=y_test, y_pred=y_pred)\n",
        "\n",
        "conf_matrix = pd.DataFrame(data=confmat,columns=['Predicted:1','Predicted:2','Predicted:3','Predicted:4'],index=['Actual:1','Actual:2','Actual:3','Actual:4'])\n",
        "plt.figure(figsize = (8,5))\n",
        "sns.heatmap(conf_matrix, annot=True,fmt='d',cmap=\"YlGnBu\").set_title(\n",
        "    \"Confusion Matrix \\n Random Forest\", fontsize=16)\n",
        "plt.show()"
      ],
      "execution_count": 48,
      "outputs": [
        {
          "output_type": "display_data",
          "data": {
            "image/png": "[encoded data removed]",
            "text/plain": [
              "<Figure size 576x360 with 2 Axes>"
            ]
          },
          "metadata": {
            "needs_background": "light"
          }
        }
      ]
    }
  ]
}